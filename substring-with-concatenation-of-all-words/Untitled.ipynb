{
 "cells": [
  {
   "cell_type": "code",
   "execution_count": 4,
   "id": "b04d00eb-e3e2-49fb-a87b-bf4f3183f0e8",
   "metadata": {},
   "outputs": [
    {
     "name": "stdin",
     "output_type": "stream",
     "text": [
      " test\n"
     ]
    },
    {
     "name": "stdout",
     "output_type": "stream",
     "text": [
      "test\n"
     ]
    }
   ],
   "source": [
    "import random\n",
    "\n",
    "print(input())"
   ]
  },
  {
   "cell_type": "markdown",
   "id": "5c2df02a-9c0d-43fe-89af-3207bf348ede",
   "metadata": {},
   "source": [
    "# test\n",
    "will see"
   ]
  }
 ],
 "metadata": {
  "kernelspec": {
   "display_name": "Python 3 (ipykernel)",
   "language": "python",
   "name": "python3"
  },
  "language_info": {
   "codemirror_mode": {
    "name": "ipython",
    "version": 3
   },
   "file_extension": ".py",
   "mimetype": "text/x-python",
   "name": "python",
   "nbconvert_exporter": "python",
   "pygments_lexer": "ipython3",
   "version": "3.12.3"
  }
 },
 "nbformat": 4,
 "nbformat_minor": 5
}
